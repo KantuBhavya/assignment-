{
  "cells": [
    {
      "cell_type": "markdown",
      "metadata": {
        "id": "view-in-github",
        "colab_type": "text"
      },
      "source": [
        "<a href=\"https://colab.research.google.com/github/KantuBhavya/assignment-/blob/main/assignments/Assignment_01.ipynb\" target=\"_parent\"><img src=\"https://colab.research.google.com/assets/colab-badge.svg\" alt=\"Open In Colab\"/></a>"
      ]
    },
    {
      "cell_type": "markdown",
      "id": "548b84c2-e24f-4a12-98bb-5e7bd5ec86bd",
      "metadata": {
        "id": "548b84c2-e24f-4a12-98bb-5e7bd5ec86bd"
      },
      "source": [
        "# Python"
      ]
    },
    {
      "cell_type": "markdown",
      "id": "99fbfc45-ba9e-4766-8219-f5dbcacc8481",
      "metadata": {
        "id": "99fbfc45-ba9e-4766-8219-f5dbcacc8481"
      },
      "source": [
        "<a target=\"_blank\" href=\"https://colab.research.google.com/github/kgsb24/rishi-college/blob/main/assignments/Assignment_01.ipynb\">\n",
        "  <img src=\"https://colab.research.google.com/assets/colab-badge.svg\" alt=\"Open In Colab\"/>\n",
        "</a>"
      ]
    },
    {
      "cell_type": "markdown",
      "id": "07a1f870-f905-4703-8b65-12e83172133a",
      "metadata": {
        "id": "07a1f870-f905-4703-8b65-12e83172133a"
      },
      "source": [
        "## Basic Python Fundamentals"
      ]
    },
    {
      "cell_type": "code",
      "execution_count": null,
      "id": "502e1d87-2fdd-4588-a330-2af21268215e",
      "metadata": {
        "id": "502e1d87-2fdd-4588-a330-2af21268215e",
        "outputId": "145abea0-fdd8-4083-ee66-91cc7f369c8b",
        "colab": {
          "base_uri": "https://localhost:8080/"
        }
      },
      "outputs": [
        {
          "output_type": "execute_result",
          "data": {
            "text/plain": [
              "int"
            ]
          },
          "metadata": {},
          "execution_count": 1
        }
      ],
      "source": [
        "# Write a Python program to declare a variable x with the value 10 and print its type.\n",
        "x=10\n",
        "type(x)"
      ]
    },
    {
      "cell_type": "code",
      "execution_count": null,
      "id": "dae77579-4b7d-4f06-96e0-7bdfe43860d7",
      "metadata": {
        "id": "dae77579-4b7d-4f06-96e0-7bdfe43860d7",
        "outputId": "66c43c6a-f15b-4ab9-dfee-2aeaddfaaabb",
        "colab": {
          "base_uri": "https://localhost:8080/"
        }
      },
      "outputs": [
        {
          "output_type": "stream",
          "name": "stdout",
          "text": [
            "sum of 5,10,15: 30\n"
          ]
        }
      ],
      "source": [
        "# Write a Python program to declare three variables a = 5, b = 10, and c = 15, and print their sum.\n",
        "a=5\n",
        "b=10\n",
        "c=15\n",
        "print(\"sum of 5,10,15:\",a+b+c)"
      ]
    },
    {
      "cell_type": "code",
      "execution_count": null,
      "id": "c32867b2-a615-426a-89ae-bd2793b6a4dc",
      "metadata": {
        "id": "c32867b2-a615-426a-89ae-bd2793b6a4dc",
        "outputId": "f4afe888-d8fd-4f23-af80-1fb5b48a6e6e",
        "colab": {
          "base_uri": "https://localhost:8080/"
        }
      },
      "outputs": [
        {
          "output_type": "stream",
          "name": "stdout",
          "text": [
            "<class 'str'>\n"
          ]
        }
      ],
      "source": [
        "# Write a Python program that checks and prints the type of a variable (e.g., int, float, str, etc.).\n",
        "a=\"rishi\"\n",
        "if type(a)==str:\n",
        "    print(type(a))"
      ]
    },
    {
      "cell_type": "code",
      "execution_count": null,
      "id": "8b233e41-9d44-4869-9ead-afb3ff1c0b67",
      "metadata": {
        "id": "8b233e41-9d44-4869-9ead-afb3ff1c0b67",
        "outputId": "8887ab4b-2b36-4c00-f4a5-517de5b1113e",
        "colab": {
          "base_uri": "https://localhost:8080/"
        }
      },
      "outputs": [
        {
          "output_type": "stream",
          "name": "stdout",
          "text": [
            "enter first number:25\n",
            "enter second number:5\n",
            "addition is: 30\n",
            "subtraction is: 20\n",
            "multiplication is : 125\n",
            "division is : 5.0\n"
          ]
        }
      ],
      "source": [
        "# Write a Python program to perform addition, subtraction, multiplication, and division on two numbers. (User input is required for the numbers)\n",
        "a=int(input(\"enter first number:\"))\n",
        "b=int(input(\"enter second number:\"))\n",
        "print(\"addition is:\",a+b)\n",
        "print(\"subtraction is:\",a-b)\n",
        "print(\"multiplication is :\",a*b)\n",
        "print(\"division is :\",a/b)"
      ]
    },
    {
      "cell_type": "code",
      "execution_count": null,
      "id": "629435bd-6bfa-44de-91d9-3b2937713257",
      "metadata": {
        "id": "629435bd-6bfa-44de-91d9-3b2937713257",
        "outputId": "4237c6e3-d2ce-43fe-8237-cf2e883f94a6",
        "colab": {
          "base_uri": "https://localhost:8080/"
        }
      },
      "outputs": [
        {
          "output_type": "stream",
          "name": "stdout",
          "text": [
            "123\n",
            "123.0\n"
          ]
        }
      ],
      "source": [
        "# Write a Python program to convert a string \"123\" to an integer and a float and print the results.\n",
        "a=\"123\"\n",
        "print(int(a))\n",
        "print(float(a))"
      ]
    },
    {
      "cell_type": "code",
      "execution_count": null,
      "id": "599421f1-51c1-4653-9d78-b007fcc6861b",
      "metadata": {
        "id": "599421f1-51c1-4653-9d78-b007fcc6861b",
        "outputId": "5b7ee76f-810f-4c38-d7db-54ddc3cd36e7",
        "colab": {
          "base_uri": "https://localhost:8080/"
        }
      },
      "outputs": [
        {
          "output_type": "stream",
          "name": "stdout",
          "text": [
            "enter a string:skill\n",
            "s\n"
          ]
        }
      ],
      "source": [
        "# Write a Python program to print the first character of a given string. (User input for the string)\n",
        "a=str(input(\"enter a string:\"))\n",
        "print(a[0])"
      ]
    },
    {
      "cell_type": "code",
      "execution_count": null,
      "id": "54ee0a5d-415f-40b6-b82e-c0de12a002f9",
      "metadata": {
        "id": "54ee0a5d-415f-40b6-b82e-c0de12a002f9",
        "outputId": "ef4f135a-eae1-4fe1-89c9-b68a827c7ff4",
        "colab": {
          "base_uri": "https://localhost:8080/"
        }
      },
      "outputs": [
        {
          "name": "stdout",
          "output_type": "stream",
          "text": [
            "enter a string:skilld\n"
          ]
        },
        {
          "output_type": "execute_result",
          "data": {
            "text/plain": [
              "6"
            ]
          },
          "metadata": {},
          "execution_count": 15
        }
      ],
      "source": [
        "# Write a Python program to print the length of a string. (User input for the string)\n",
        "a=str(input(\"enter a string:\"))\n",
        "len(a)\n"
      ]
    },
    {
      "cell_type": "code",
      "execution_count": null,
      "id": "65f44c33-618e-4337-a9d1-9de888c93a0a",
      "metadata": {
        "id": "65f44c33-618e-4337-a9d1-9de888c93a0a",
        "outputId": "0971b2a6-bc1b-4ec3-b5d7-a831bca6c4d3",
        "colab": {
          "base_uri": "https://localhost:8080/"
        }
      },
      "outputs": [
        {
          "output_type": "stream",
          "name": "stdout",
          "text": [
            "enter a string:sfhf\n",
            "True\n"
          ]
        }
      ],
      "source": [
        "# Write a Python program to check if a given string contains only alphabets.\n",
        "a=str(input(\"enter a string:\"))\n",
        "print(a.isalpha())\n"
      ]
    },
    {
      "cell_type": "code",
      "execution_count": null,
      "id": "37463128-2b51-4860-b6bf-40d3c03fbe84",
      "metadata": {
        "id": "37463128-2b51-4860-b6bf-40d3c03fbe84",
        "outputId": "0d807e4a-d9b0-435a-a82f-7eac405d187f",
        "colab": {
          "base_uri": "https://localhost:8080/"
        }
      },
      "outputs": [
        {
          "output_type": "stream",
          "name": "stdout",
          "text": [
            "enter a string:hello\n",
            "enter a string:myself\n",
            "concatenate: hellomyself\n"
          ]
        }
      ],
      "source": [
        "# Write a Python program to concatenate two strings. (User input for the strings)\n",
        "a=str(input(\"enter a string:\"))\n",
        "b=str(input(\"enter a string:\"))\n",
        "print(\"concatenate:\",a+b)\n"
      ]
    },
    {
      "cell_type": "code",
      "execution_count": null,
      "id": "b1c5d364-eccf-473a-b03a-ab15f3e917cf",
      "metadata": {
        "id": "b1c5d364-eccf-473a-b03a-ab15f3e917cf",
        "outputId": "19691e85-6b9f-446a-b5ad-f4409b7d5ca5",
        "colab": {
          "base_uri": "https://localhost:8080/"
        }
      },
      "outputs": [
        {
          "output_type": "stream",
          "name": "stdout",
          "text": [
            "enter a string:abcsdg\n",
            "0\n"
          ]
        }
      ],
      "source": [
        "# Write a Python program to find the index of a substring \"abc\" in a string. (User input for the string)\n",
        "a=str(input(\"enter a string:\"))\n",
        "substr=\"abc\"\n",
        "index=a.index(substr)\n",
        "print(index)\n"
      ]
    },
    {
      "cell_type": "code",
      "execution_count": null,
      "id": "cc92afd9-ba4b-4934-a79d-f26825b4efc2",
      "metadata": {
        "id": "cc92afd9-ba4b-4934-a79d-f26825b4efc2",
        "outputId": "7dfbfa64-7f95-4829-e7a3-17b9de705d93",
        "colab": {
          "base_uri": "https://localhost:8080/"
        }
      },
      "outputs": [
        {
          "output_type": "stream",
          "name": "stdout",
          "text": [
            "enter a string:Hello\n",
            "HELLO\n",
            "hello\n"
          ]
        }
      ],
      "source": [
        "# Write a Python program to convert a string to both uppercase and lowercase. (User input for the string)\n",
        "a=str(input(\"enter a string:\"))\n",
        "print(a.upper())\n",
        "print(a.lower())\n"
      ]
    },
    {
      "cell_type": "code",
      "execution_count": null,
      "id": "f24f79b3-da8b-44bf-8310-c68442e86e3e",
      "metadata": {
        "id": "f24f79b3-da8b-44bf-8310-c68442e86e3e",
        "outputId": "4b2218fb-e577-454b-dcae-9c7a6cd64332",
        "colab": {
          "base_uri": "https://localhost:8080/"
        }
      },
      "outputs": [
        {
          "output_type": "stream",
          "name": "stdout",
          "text": [
            "enter a string:sgbdjbdbbdub\n",
            "number of times b appears:\n",
            "5\n"
          ]
        }
      ],
      "source": [
        "# Write a Python program to count how many times a particular character appears in a string. (User input for string and character)\n",
        "a=str(input(\"enter a string:\"))\n",
        "print(\"number of times b appears:\")\n",
        "print(a.count('b',0))\n"
      ]
    },
    {
      "cell_type": "code",
      "execution_count": null,
      "id": "f2e8f25c-5c34-44eb-b749-7cc4c100b9a8",
      "metadata": {
        "id": "f2e8f25c-5c34-44eb-b749-7cc4c100b9a8",
        "outputId": "375c2f2d-7f9d-4707-e651-286f80fa077e",
        "colab": {
          "base_uri": "https://localhost:8080/"
        }
      },
      "outputs": [
        {
          "output_type": "stream",
          "name": "stdout",
          "text": [
            "enter your name :user\n",
            "Hello user Good Morning\n"
          ]
        }
      ],
      "source": [
        "# Write a Python program to take the user's name as input and print a personalized greeting. (Hello, username, Good Morning)\n",
        "a=str(input(\"enter your name :\"))\n",
        "print(f\"Hello {a} Good Morning\")"
      ]
    },
    {
      "cell_type": "code",
      "execution_count": null,
      "id": "189296cf-77e6-4f48-b010-77458da5bc9d",
      "metadata": {
        "id": "189296cf-77e6-4f48-b010-77458da5bc9d",
        "outputId": "e492b4a7-ca32-429c-c2af-b040bcbd63ee",
        "colab": {
          "base_uri": "https://localhost:8080/"
        }
      },
      "outputs": [
        {
          "output_type": "stream",
          "name": "stdout",
          "text": [
            "enter first number:26\n",
            "enter second number:6\n",
            "sum: 32\n"
          ]
        }
      ],
      "source": [
        "# Write a Python program to take two numbers as input and print their sum.\n",
        "a=int(input(\"enter first number:\"))\n",
        "b=int(input(\"enter second number:\"))\n",
        "print(\"sum:\",a+b)\n"
      ]
    },
    {
      "cell_type": "code",
      "execution_count": null,
      "id": "0563b26c-0218-47b8-9035-98beb73b0931",
      "metadata": {
        "id": "0563b26c-0218-47b8-9035-98beb73b0931",
        "outputId": "23920bb9-753f-4ef7-a18a-d8c5e7221cb2",
        "colab": {
          "base_uri": "https://localhost:8080/"
        }
      },
      "outputs": [
        {
          "output_type": "stream",
          "name": "stdout",
          "text": [
            "enter your name :ramya\n",
            "enter your age :24\n",
            "hello my name is ramya and my age is 24 \n"
          ]
        }
      ],
      "source": [
        "# Write a Python program to format and display a string containing the user's name and age. (User input required)\n",
        "a=str(input(\"enter your name :\"))\n",
        "b=int(input(\"enter your age :\"))\n",
        "print(f\"hello my name is {a} and my age is {b} \")\n"
      ]
    },
    {
      "cell_type": "markdown",
      "id": "0bde6e5a-0415-4b06-8b5a-95fa252b34eb",
      "metadata": {
        "id": "0bde6e5a-0415-4b06-8b5a-95fa252b34eb"
      },
      "source": [
        "## Control Structures (Conditionals and Loops)"
      ]
    },
    {
      "cell_type": "code",
      "execution_count": null,
      "id": "aefff5f3-b61e-43e6-a458-7367ef1af9de",
      "metadata": {
        "id": "aefff5f3-b61e-43e6-a458-7367ef1af9de",
        "outputId": "9c8d9ab1-c564-4854-abd2-43f542ecd16a",
        "colab": {
          "base_uri": "https://localhost:8080/"
        }
      },
      "outputs": [
        {
          "output_type": "stream",
          "name": "stdout",
          "text": [
            "enter a number :-2435\n",
            "negative number\n"
          ]
        }
      ],
      "source": [
        "# Write a Python program that takes a number as input and checks whether it is positive, negative, or zero.\n",
        "a=float(input(\"enter a number :\"))\n",
        "if a>=0:\n",
        "  if a==0:\n",
        "    print(\"zero\")\n",
        "  else:\n",
        "    print(\"positive number\")\n",
        "else:\n",
        "  print(\"negative number\")"
      ]
    },
    {
      "cell_type": "code",
      "execution_count": null,
      "id": "4dc6d14b-6d22-4348-859a-2a03f9be65f7",
      "metadata": {
        "id": "4dc6d14b-6d22-4348-859a-2a03f9be65f7",
        "outputId": "f1eb50f7-3b1f-4509-eda2-f8ccbf383533",
        "colab": {
          "base_uri": "https://localhost:8080/"
        }
      },
      "outputs": [
        {
          "output_type": "stream",
          "name": "stdout",
          "text": [
            "enter a number :4\n",
            "enter a number :567\n",
            "enter a number :89\n",
            " 567 is maximum number\n",
            "None\n"
          ]
        }
      ],
      "source": [
        "# Write a Python program to find the maximum of three numbers. (User input for the numbers)\n",
        "a=int(input(\"enter a number :\"))\n",
        "b=int(input(\"enter a number :\"))\n",
        "c=int(input(\"enter a number :\"))\n",
        "print( max(a,b,c))\n",
        "def max(a,b,c):\n",
        "\n",
        "    if (a>=b) and (a>=c):\n",
        "      print(f\" {a} is maxmum number\")\n",
        "    elif (b>=a) and (b>=c):\n",
        "      print(f\" {b} is maximum number\")\n",
        "    else:\n",
        "      printf(f\" {c} is maxium number\")\n"
      ]
    },
    {
      "cell_type": "code",
      "execution_count": null,
      "id": "3f6d1f45-eb68-4142-89d6-510046f21879",
      "metadata": {
        "id": "3f6d1f45-eb68-4142-89d6-510046f21879",
        "outputId": "dd0b0b4a-f830-4856-fa80-31689047b42b",
        "colab": {
          "base_uri": "https://localhost:8080/"
        }
      },
      "outputs": [
        {
          "output_type": "stream",
          "name": "stdout",
          "text": [
            "enter a year :2024\n",
            "it is  leap year\n"
          ]
        }
      ],
      "source": [
        "# Write a Python program to check if a year is a leap year. (User input for the year)\n",
        "year=int(input(\"enter a year :\"))\n",
        "if year%4==0 and year%100!=0 :\n",
        "  print(\"it is  leap year\")\n",
        "else:\n",
        "  print(\"it is not  leap year\")"
      ]
    },
    {
      "cell_type": "code",
      "execution_count": null,
      "id": "b6a07105-6fa5-4f70-b64b-ebd66afc3c2b",
      "metadata": {
        "id": "b6a07105-6fa5-4f70-b64b-ebd66afc3c2b",
        "outputId": "72d3aa2e-7aab-4a5a-e99d-edd12088de9d",
        "colab": {
          "base_uri": "https://localhost:8080/"
        }
      },
      "outputs": [
        {
          "output_type": "stream",
          "name": "stdout",
          "text": [
            "enter a number :15\n",
            "15 is divisible by both 3 and 5\n"
          ]
        }
      ],
      "source": [
        "# Write a Python program to check if a number is divisible by both 3 and 5. (User input for the number)\n",
        "a=int(input(\"enter a number :\"))\n",
        "if a%3==0 and a%5==0:\n",
        "  print(f\"{a} is divisible by both 3 and 5\")\n",
        "else:\n",
        "  print(f\"{a} is not divisible by both\")\n"
      ]
    },
    {
      "cell_type": "code",
      "execution_count": null,
      "id": "d10c9005-b85d-42f9-81d0-65d149415888",
      "metadata": {
        "id": "d10c9005-b85d-42f9-81d0-65d149415888",
        "outputId": "4a99bdc0-230f-460d-a908-66d6cffca8da",
        "colab": {
          "base_uri": "https://localhost:8080/"
        }
      },
      "outputs": [
        {
          "output_type": "stream",
          "name": "stdout",
          "text": [
            "enter  :madam\n",
            "it is a palindrome\n"
          ]
        }
      ],
      "source": [
        "# Write a Python program to check if a string is a palindrome. (User input for the string)\n",
        "a=str(input(\"enter  :\"))\n",
        "if a==a[::-1]:\n",
        " print(\"it is a palindrome\")\n",
        "else:\n",
        "  print(\"is is not a palindrome\")"
      ]
    },
    {
      "cell_type": "code",
      "execution_count": null,
      "id": "82d76cdf-efc6-45c6-ab09-9d1f17b3d857",
      "metadata": {
        "id": "82d76cdf-efc6-45c6-ab09-9d1f17b3d857",
        "outputId": "14ecaeef-1788-4f80-f8fc-04caad8ff79e",
        "colab": {
          "base_uri": "https://localhost:8080/"
        }
      },
      "outputs": [
        {
          "output_type": "stream",
          "name": "stdout",
          "text": [
            "1\n",
            "2\n",
            "3\n",
            "4\n",
            "5\n",
            "6\n",
            "7\n",
            "8\n",
            "9\n",
            "10\n"
          ]
        }
      ],
      "source": [
        "# Write a Python program to print numbers from 1 to 10 using a for loop.\n",
        "for i in range(1,11):\n",
        "  print(i)"
      ]
    },
    {
      "cell_type": "code",
      "execution_count": null,
      "id": "d09e8994-e984-4c12-ab1e-1bfc6938a389",
      "metadata": {
        "id": "d09e8994-e984-4c12-ab1e-1bfc6938a389",
        "outputId": "c4e62f6b-9488-4dab-89ed-827605dc239b",
        "colab": {
          "base_uri": "https://localhost:8080/"
        }
      },
      "outputs": [
        {
          "output_type": "stream",
          "name": "stdout",
          "text": [
            "0\n",
            "2\n",
            "4\n",
            "6\n",
            "8\n",
            "10\n",
            "12\n",
            "14\n",
            "16\n",
            "18\n",
            "20\n"
          ]
        }
      ],
      "source": [
        "# Write a Python program to print all even numbers from 1 to 20 using a while loop.\n",
        "i=0\n",
        "while i<=20:\n",
        "    print(i)\n",
        "    i=i+2\n",
        "\n"
      ]
    },
    {
      "cell_type": "code",
      "execution_count": null,
      "id": "c09ca878-167e-49ca-97f0-247a43c9b472",
      "metadata": {
        "id": "c09ca878-167e-49ca-97f0-247a43c9b472",
        "outputId": "0ee7632d-7b4b-41e1-80ae-30d619d3ce2f",
        "colab": {
          "base_uri": "https://localhost:8080/"
        }
      },
      "outputs": [
        {
          "output_type": "stream",
          "name": "stdout",
          "text": [
            "enter a number for miltiplication:5\n",
            "Multiplication table for: 5\n",
            "5 x 1 = 5\n",
            "5 x 2 = 10\n",
            "5 x 3 = 15\n",
            "5 x 4 = 20\n",
            "5 x 5 = 25\n",
            "5 x 6 = 30\n",
            "5 x 7 = 35\n",
            "5 x 8 = 40\n",
            "5 x 9 = 45\n",
            "5 x 10 = 50\n"
          ]
        }
      ],
      "source": [
        "# Write a Python program to print the multiplication table of a given number using a for loop. (User input for the number)\n",
        "num=int(input(\"enter a number for miltiplication:\"))\n",
        "print(\"Multiplication table for:\",num)\n",
        "for count in range (1,11):\n",
        "  print(num ,'x',count,'=', num*count)"
      ]
    },
    {
      "cell_type": "code",
      "execution_count": null,
      "id": "b72118ab-e62d-4af9-bcec-e1cc6af31b25",
      "metadata": {
        "id": "b72118ab-e62d-4af9-bcec-e1cc6af31b25",
        "outputId": "c74c74b0-4cca-4b64-fb4c-ad3ce50aba41",
        "colab": {
          "base_uri": "https://localhost:8080/"
        }
      },
      "outputs": [
        {
          "output_type": "stream",
          "name": "stdout",
          "text": [
            "enter a number :5\n",
            "sum is: 15\n"
          ]
        }
      ],
      "source": [
        "# Write a Python program to calculate the sum of all numbers from 1 to n using a while loop. (User input for n)\n",
        "n=int(input(\"enter a number :\"))\n",
        "sum=0\n",
        "i=1\n",
        "while i<=n:\n",
        "  sum=sum+i\n",
        "  i=i+1\n",
        "print('sum is:',sum)"
      ]
    },
    {
      "cell_type": "code",
      "execution_count": null,
      "id": "ae93621f-11a2-40b7-97bc-3002f03ac36a",
      "metadata": {
        "id": "ae93621f-11a2-40b7-97bc-3002f03ac36a",
        "outputId": "c089bf40-b55b-4774-a84b-e808407ac045",
        "colab": {
          "base_uri": "https://localhost:8080/"
        }
      },
      "outputs": [
        {
          "output_type": "stream",
          "name": "stdout",
          "text": [
            "enter a number to get factorial :4\n",
            "Factorial is 24\n"
          ]
        }
      ],
      "source": [
        "# Write a Python program to calculate the factorial of a number using a while loop. (User input for the number)\n",
        "n=int(input(\"enter a number to get factorial :\"))\n",
        "f=1\n",
        "while n>=1:\n",
        "  f*=n\n",
        "  n-=1\n",
        "print(\"Factorial is\",f)\n"
      ]
    },
    {
      "cell_type": "code",
      "execution_count": null,
      "id": "68467ccc-d696-4ef1-84c4-164c9d87f755",
      "metadata": {
        "id": "68467ccc-d696-4ef1-84c4-164c9d87f755",
        "outputId": "c33c5e8e-5aa8-4899-beb8-6d5918b522b2",
        "colab": {
          "base_uri": "https://localhost:8080/"
        }
      },
      "outputs": [
        {
          "output_type": "stream",
          "name": "stdout",
          "text": [
            "enter a number to get fibonacci sequence till it :10\n",
            "0 1 1 2 3 5 8 13 21 34 "
          ]
        }
      ],
      "source": [
        "# Write a Python program to print the Fibonacci sequence up to n terms. (User input for n)\n",
        "n=int(input(\"enter a number to get fibonacci sequence till it :\"))\n",
        "a=0\n",
        "b=1\n",
        "for i in range(0,n):\n",
        "  print(a,end = ' ')\n",
        "  c=a+b\n",
        "  a=b\n",
        "  b=c\n"
      ]
    },
    {
      "cell_type": "code",
      "execution_count": null,
      "id": "5bebd1f3-2606-4102-aa55-01cb1650f632",
      "metadata": {
        "id": "5bebd1f3-2606-4102-aa55-01cb1650f632",
        "outputId": "8fb7c8c7-5622-462c-84d7-8c6f55733c05",
        "colab": {
          "base_uri": "https://localhost:8080/"
        }
      },
      "outputs": [
        {
          "output_type": "stream",
          "name": "stdout",
          "text": [
            "1\n",
            "2\n",
            "3\n",
            "5\n",
            "7\n",
            "11\n",
            "13\n",
            "17\n",
            "19\n",
            "23\n",
            "29\n",
            "31\n",
            "37\n",
            "41\n",
            "43\n",
            "47\n",
            "53\n",
            "59\n",
            "61\n",
            "67\n",
            "71\n",
            "73\n",
            "79\n",
            "83\n",
            "89\n",
            "97\n"
          ]
        }
      ],
      "source": [
        "# Write a Python program to find all the prime numbers from 1 to 100.\n",
        "num1=1\n",
        "num2=100\n",
        "for x in range(num1,num2):\n",
        "  prime=True\n",
        "  for i in range(2,x):\n",
        "    if (x%i==0):\n",
        "      prime = False\n",
        "  if prime == True:\n",
        "    print(x)"
      ]
    },
    {
      "cell_type": "code",
      "execution_count": null,
      "id": "0a3f894e-52ba-4c0b-9158-a70f31f4fd49",
      "metadata": {
        "id": "0a3f894e-52ba-4c0b-9158-a70f31f4fd49",
        "outputId": "4d41ac51-eb3b-427b-f96a-63261d46c1b5",
        "colab": {
          "base_uri": "https://localhost:8080/"
        }
      },
      "outputs": [
        {
          "output_type": "stream",
          "name": "stdout",
          "text": [
            "48\n",
            "49\n",
            "50\n"
          ]
        }
      ],
      "source": [
        "# Write a Python program that breaks out of a loop when a specific condition is met (e.g., when a number greater than 50 is found).\n",
        "i=48\n",
        "while i<=50:\n",
        "  print(i)\n",
        "  i+=1\n"
      ]
    },
    {
      "cell_type": "code",
      "execution_count": null,
      "id": "499b91d0-1f1b-494f-af2b-8cc3a06d90ed",
      "metadata": {
        "id": "499b91d0-1f1b-494f-af2b-8cc3a06d90ed",
        "outputId": "05ed9958-aca0-49fc-86e9-f7e1e3eecfeb",
        "colab": {
          "base_uri": "https://localhost:8080/"
        }
      },
      "outputs": [
        {
          "output_type": "stream",
          "name": "stdout",
          "text": [
            "1\n",
            "3\n",
            "5\n",
            "7\n",
            "9\n",
            "11\n",
            "13\n",
            "15\n",
            "17\n",
            "19\n"
          ]
        }
      ],
      "source": [
        "# Write a Python program to skip even numbers while printing numbers from 1 to 20 using a for loop.\n",
        "for i in range(1,21):\n",
        "  if i%2!=0:\n",
        "    print(i)\n"
      ]
    },
    {
      "cell_type": "code",
      "execution_count": null,
      "id": "f8ffed70-dfde-4262-a2fd-0d35d69b5fb1",
      "metadata": {
        "id": "f8ffed70-dfde-4262-a2fd-0d35d69b5fb1",
        "outputId": "8d4e9d31-63a7-465f-f4fc-9121fd77bda1",
        "colab": {
          "base_uri": "https://localhost:8080/"
        }
      },
      "outputs": [
        {
          "output_type": "stream",
          "name": "stdout",
          "text": [
            "enter a string:ahhsdujhs\n",
            "enter a character to count the appears in stringh\n",
            "3\n"
          ]
        }
      ],
      "source": [
        "# Write a Python program to count how many times a particular character appears in a string using a for loop. (User input for string and character)\n",
        "str1=input(\"enter a string:\")\n",
        "target=input(\"enter a character to count the appears in string\")\n",
        "count=0\n",
        "for c in str1:\n",
        "  if c== target:\n",
        "    count+=1\n",
        "print(count)\n",
        "\n"
      ]
    },
    {
      "cell_type": "code",
      "execution_count": null,
      "id": "01f976ed-4dcd-4842-ae84-d3b5cc42d011",
      "metadata": {
        "id": "01f976ed-4dcd-4842-ae84-d3b5cc42d011",
        "outputId": "d83e1123-7594-49ef-a0ec-855d0ddbda61",
        "colab": {
          "base_uri": "https://localhost:8080/"
        }
      },
      "outputs": [
        {
          "output_type": "stream",
          "name": "stdout",
          "text": [
            "enter a number:24\n",
            "6\n"
          ]
        }
      ],
      "source": [
        "# Write a Python program to calculate the sum of digits of a number. (User input for the number)\n",
        "num=input(\"enter a number:\")\n",
        "sum=0\n",
        "for i in num:\n",
        "  sum=sum+int(i)\n",
        "print (sum)"
      ]
    },
    {
      "cell_type": "markdown",
      "id": "fe644fae-f262-48dd-b7ff-08eb747d297e",
      "metadata": {
        "id": "fe644fae-f262-48dd-b7ff-08eb747d297e"
      },
      "source": [
        "## Data Structures (Lists, Tuples, Sets, Dictionaries)"
      ]
    },
    {
      "cell_type": "code",
      "execution_count": null,
      "id": "a0333c26-8e19-4c71-9722-d32cf8625ef6",
      "metadata": {
        "id": "a0333c26-8e19-4c71-9722-d32cf8625ef6",
        "outputId": "85c1d402-ed37-4a3c-82fc-2ab65b8be331",
        "colab": {
          "base_uri": "https://localhost:8080/"
        }
      },
      "outputs": [
        {
          "output_type": "stream",
          "name": "stdout",
          "text": [
            " the sum of the list is:  5\n"
          ]
        }
      ],
      "source": [
        "# Write a Python program to create a list of integers and print the sum of the elements.\n",
        "def calculate_sum(numbers):\n",
        "  for i  in numbers:\n",
        "    sum=0\n",
        "    sum=sum+i\n",
        "    i=i+1\n",
        "  return sum\n",
        "numbers_list=[1,2,3,4,5]\n",
        "result=calculate_sum(numbers_list)\n",
        "print(\" the sum of the list is: \",result)"
      ]
    },
    {
      "cell_type": "code",
      "execution_count": null,
      "id": "5a23046d-80b0-4f8d-a02f-4e3d833c0443",
      "metadata": {
        "id": "5a23046d-80b0-4f8d-a02f-4e3d833c0443",
        "outputId": "693dbac4-798b-46fe-cd6e-ba992adb8ee7",
        "colab": {
          "base_uri": "https://localhost:8080/"
        }
      },
      "outputs": [
        {
          "output_type": "stream",
          "name": "stdout",
          "text": [
            "67\n"
          ]
        }
      ],
      "source": [
        "# Write a Python program to find the largest element in a list.\n",
        "a=(5,10,15,67)\n",
        "largest=max(a)\n",
        "print(largest)"
      ]
    },
    {
      "cell_type": "code",
      "execution_count": null,
      "id": "9939c2d2-90fd-4e80-81bc-227c72e60e37",
      "metadata": {
        "id": "9939c2d2-90fd-4e80-81bc-227c72e60e37",
        "outputId": "8d45bc5e-f30e-4967-fe0e-515922856fb7",
        "colab": {
          "base_uri": "https://localhost:8080/"
        }
      },
      "outputs": [
        {
          "output_type": "stream",
          "name": "stdout",
          "text": [
            "[4.5, 3, 2, 1]\n"
          ]
        }
      ],
      "source": [
        "# Write a Python program to reverse a list.\n",
        "a=[1,2,3,4.5]\n",
        "a=a[::-1]\n",
        "print(a)"
      ]
    },
    {
      "cell_type": "code",
      "execution_count": null,
      "id": "aa287db8-057b-48d4-a6d8-18cc53eb7178",
      "metadata": {
        "id": "aa287db8-057b-48d4-a6d8-18cc53eb7178",
        "outputId": "a745f033-6ccd-4b74-d46a-0b3e02e491ed",
        "colab": {
          "base_uri": "https://localhost:8080/"
        }
      },
      "outputs": [
        {
          "output_type": "stream",
          "name": "stdout",
          "text": [
            "original list:\n",
            "[10, 20, 20, 30, 40, 60, 20]\n",
            "list after removing elements:\n",
            "[10, 30, 40, 60, 20]\n"
          ]
        }
      ],
      "source": [
        "# Write a Python program to remove all occurrences of a specific element from a list.\n",
        "list=[10,20,20,30,40,60,20]\n",
        "n=20\n",
        "print(\"original list:\")\n",
        "print(list)\n",
        "for x in list:\n",
        "  if x==n:\n",
        "    list.remove(x)\n",
        "print(\"list after removing elements:\")\n",
        "print(list)"
      ]
    },
    {
      "cell_type": "code",
      "execution_count": null,
      "id": "da9ba926-0ab5-46e9-b66d-128088c3225b",
      "metadata": {
        "id": "da9ba926-0ab5-46e9-b66d-128088c3225b",
        "outputId": "8b38cf48-1568-477f-af8a-dd6bf4fa089b",
        "colab": {
          "base_uri": "https://localhost:8080/"
        }
      },
      "outputs": [
        {
          "output_type": "stream",
          "name": "stdout",
          "text": [
            "index of 8: 4\n"
          ]
        }
      ],
      "source": [
        "# Write a Python program to find the index of an element in a list.\n",
        "num=[1,2,4,6,8,3,9]\n",
        "index=num.index(8)\n",
        "print(\"index of 8:\",index)"
      ]
    },
    {
      "cell_type": "code",
      "execution_count": null,
      "id": "9601b6e4-cb90-4e1f-87b4-38ed37076e0d",
      "metadata": {
        "id": "9601b6e4-cb90-4e1f-87b4-38ed37076e0d",
        "outputId": "b6793783-cde9-4ce3-8cf2-739d13d39bb2",
        "colab": {
          "base_uri": "https://localhost:8080/"
        }
      },
      "outputs": [
        {
          "output_type": "stream",
          "name": "stdout",
          "text": [
            "[1, 27, 46, 97, 44]\n",
            "enter a number:45\n",
            "element does not exists in list\n"
          ]
        }
      ],
      "source": [
        "# Write a Python program to find if a specific element exists in a list.\n",
        "num=[1,27,46,97,44]\n",
        "print(num)\n",
        "n=int(input(\"enter a number:\"))\n",
        "if n in a:\n",
        "  print(\" element exists in list\")\n",
        "else:\n",
        "  print('element does not exists in list')"
      ]
    },
    {
      "cell_type": "code",
      "execution_count": null,
      "id": "9d8e7311-81de-4da2-826c-c4dcad28ed9f",
      "metadata": {
        "id": "9d8e7311-81de-4da2-826c-c4dcad28ed9f",
        "outputId": "4bcc3c01-4443-402f-886b-1e89fac418c6",
        "colab": {
          "base_uri": "https://localhost:8080/"
        }
      },
      "outputs": [
        {
          "output_type": "stream",
          "name": "stdout",
          "text": [
            "[2, 3, 4, 6]\n"
          ]
        }
      ],
      "source": [
        "# Write a Python program to remove duplicates from a list.\n",
        "def Remove(duplicate):\n",
        "  final_list=[]\n",
        "  for num in duplicate:\n",
        "    if num not in final_list:\n",
        "      final_list.append(num)\n",
        "  return final_list\n",
        "duplicate=[2,3,4,4,6,3,3]\n",
        "print(Remove(duplicate))"
      ]
    },
    {
      "cell_type": "code",
      "execution_count": null,
      "id": "09e5121b-97b3-42e4-8025-f28f3470681b",
      "metadata": {
        "id": "09e5121b-97b3-42e4-8025-f28f3470681b",
        "outputId": "6f855d0c-0b02-49ff-cfbe-32fa6bf5e2de",
        "colab": {
          "base_uri": "https://localhost:8080/"
        }
      },
      "outputs": [
        {
          "output_type": "stream",
          "name": "stdout",
          "text": [
            "3\n"
          ]
        }
      ],
      "source": [
        "# Write a Python program to count the occurrences of an element in a list.\n",
        "a_list=['a',3,8,'a',7,2,'a']\n",
        "occur=a_list.count('a')\n",
        "print(occur)"
      ]
    },
    {
      "cell_type": "code",
      "execution_count": null,
      "id": "b774b741-e9a6-45db-8f00-e6d9b734d03a",
      "metadata": {
        "id": "b774b741-e9a6-45db-8f00-e6d9b734d03a",
        "outputId": "dd43048b-5ae6-49f2-d6df-4330e29b8fdc",
        "colab": {
          "base_uri": "https://localhost:8080/"
        }
      },
      "outputs": [
        {
          "output_type": "stream",
          "name": "stdout",
          "text": [
            "[4, 2, 6, 4, 8]\n"
          ]
        }
      ],
      "source": [
        "# Write a Python program to get the number of even numbers in a list.\n",
        "def list_even(x):\n",
        "  even=[]\n",
        "  for n in x:\n",
        "    if n%2==0:\n",
        "      even.append(n)\n",
        "  return even\n",
        "num=[1,4,2,6,4,8,9,3]\n",
        "print(list_even(num))"
      ]
    },
    {
      "cell_type": "code",
      "execution_count": null,
      "id": "5ce4fd2b-ab16-4b40-9ac2-d19c244d8d96",
      "metadata": {
        "id": "5ce4fd2b-ab16-4b40-9ac2-d19c244d8d96",
        "outputId": "d534c439-2f39-4a95-8f16-922ea9caaf07",
        "colab": {
          "base_uri": "https://localhost:8080/"
        }
      },
      "outputs": [
        {
          "output_type": "stream",
          "name": "stdout",
          "text": [
            "['abc', 'def', 'dfg', 'gfh']\n"
          ]
        }
      ],
      "source": [
        "# Write a Python program to create a tuple and print it.\n",
        "tup_a=['abc','def','dfg','gfh']\n",
        "print(tup_a)"
      ]
    },
    {
      "cell_type": "code",
      "source": [
        "#write a python program to convert a tuple to a list and vice versa\n",
        "my_tuple=['adf','df','sdfg','dfg']\n",
        "my_list=list(my_tuple)\n",
        "print(\"list is:\",my_list)\n",
        "print(\"tuple is:\",my_tuple)"
      ],
      "metadata": {
        "id": "-lcIhXKM8Orf",
        "outputId": "485bc31e-508b-4ff9-fac9-805aab9ad3da",
        "colab": {
          "base_uri": "https://localhost:8080/"
        }
      },
      "id": "-lcIhXKM8Orf",
      "execution_count": null,
      "outputs": [
        {
          "output_type": "stream",
          "name": "stdout",
          "text": [
            "list is: ['adf', 'df', 'sdfg', 'dfg']\n",
            "tuple is: ['adf', 'df', 'sdfg', 'dfg']\n"
          ]
        }
      ]
    },
    {
      "cell_type": "code",
      "source": [
        "#write a python program to find the maximum and minimum values in a tuple.\n",
        "import numpy as np\n",
        "list1=[(1,1),(2,2),(3,3),(5,5)]\n",
        "num=np.array(list1)\n",
        "min_list=np.min(num,axis=0)\n",
        "max_list=np.max(num,axis=0)\n",
        "print(\"minimum of list:\",min_list)\n",
        "print(\"maxmum of list:\",max_list)"
      ],
      "metadata": {
        "id": "UHHrBsnJ90HH",
        "outputId": "99966921-9496-461b-b65a-2cccafc592d1",
        "colab": {
          "base_uri": "https://localhost:8080/"
        }
      },
      "id": "UHHrBsnJ90HH",
      "execution_count": null,
      "outputs": [
        {
          "output_type": "stream",
          "name": "stdout",
          "text": [
            "minimum of list: [1 1]\n",
            "maxmum of list: [5 5]\n"
          ]
        }
      ]
    },
    {
      "cell_type": "code",
      "execution_count": null,
      "id": "43f0a340-9407-4302-af7e-4e63db578bbf",
      "metadata": {
        "id": "43f0a340-9407-4302-af7e-4e63db578bbf",
        "outputId": "d509329e-599b-4642-9e4c-e71b98a31985",
        "colab": {
          "base_uri": "https://localhost:8080/"
        }
      },
      "outputs": [
        {
          "output_type": "stream",
          "name": "stdout",
          "text": [
            "name: navya\n",
            "age: 24\n",
            "gender: female\n"
          ]
        }
      ],
      "source": [
        "# Write a Python program to unpack a tuple into variables.\n",
        "person=('navya',24,'female')\n",
        "name,age,gender=person\n",
        "print(\"name:\",name)\n",
        "print(\"age:\",age)\n",
        "print(\"gender:\",gender)"
      ]
    },
    {
      "cell_type": "code",
      "execution_count": 5,
      "id": "46e96e29-2157-4b9f-bb24-0bd973eada9f",
      "metadata": {
        "id": "46e96e29-2157-4b9f-bb24-0bd973eada9f",
        "outputId": "df02e049-511e-4dd9-a655-ce87350449e8",
        "colab": {
          "base_uri": "https://localhost:8080/",
          "height": 220
        }
      },
      "outputs": [
        {
          "output_type": "error",
          "ename": "NameError",
          "evalue": "name 'GeK' is not defined",
          "traceback": [
            "\u001b[0;31m---------------------------------------------------------------------------\u001b[0m",
            "\u001b[0;31mNameError\u001b[0m                                 Traceback (most recent call last)",
            "\u001b[0;32m<ipython-input-5-26fdf46c8763>\u001b[0m in \u001b[0;36m<cell line: 3>\u001b[0;34m()\u001b[0m\n\u001b[1;32m      1\u001b[0m \u001b[0;31m# Write a Python program to add an element to a set and check if an element exists in the set.\u001b[0m\u001b[0;34m\u001b[0m\u001b[0;34m\u001b[0m\u001b[0m\n\u001b[1;32m      2\u001b[0m \u001b[0mGek\u001b[0m\u001b[0;34m=\u001b[0m\u001b[0;34m(\u001b[0m\u001b[0;34m\"d\"\u001b[0m\u001b[0;34m)\u001b[0m\u001b[0;34m\u001b[0m\u001b[0;34m\u001b[0m\u001b[0m\n\u001b[0;32m----> 3\u001b[0;31m \u001b[0mGeK\u001b[0m\u001b[0;34m.\u001b[0m\u001b[0madd\u001b[0m\u001b[0;34m(\u001b[0m\u001b[0;34m\"s\"\u001b[0m\u001b[0;34m)\u001b[0m\u001b[0;34m\u001b[0m\u001b[0;34m\u001b[0m\u001b[0m\n\u001b[0m\u001b[1;32m      4\u001b[0m \u001b[0mprint\u001b[0m\u001b[0;34m(\u001b[0m\u001b[0;34m\"letters are:\"\u001b[0m\u001b[0;34m,\u001b[0m\u001b[0mGeK\u001b[0m\u001b[0;34m)\u001b[0m\u001b[0;34m\u001b[0m\u001b[0;34m\u001b[0m\u001b[0m\n\u001b[1;32m      5\u001b[0m \u001b[0mGeK\u001b[0m\u001b[0;34m.\u001b[0m\u001b[0madd\u001b[0m\u001b[0;34m(\u001b[0m\u001b[0;34m\"e\"\u001b[0m\u001b[0;34m)\u001b[0m\u001b[0;34m\u001b[0m\u001b[0;34m\u001b[0m\u001b[0m\n",
            "\u001b[0;31mNameError\u001b[0m: name 'GeK' is not defined"
          ]
        }
      ],
      "source": [
        "# Write a Python program to add an element to a set and check if an element exists in the set.\n",
        "Gek=(\"d\")\n",
        "GeK.add(\"s\")\n",
        "print(\"letters are:\",GeK)\n",
        "GeK.add(\"e\")\n",
        "print(\" letters are:\",GeK)\n"
      ]
    },
    {
      "cell_type": "code",
      "execution_count": null,
      "id": "d81a803b-fd80-403e-9ae3-680ef44a3d86",
      "metadata": {
        "id": "d81a803b-fd80-403e-9ae3-680ef44a3d86",
        "outputId": "b234d02b-cd63-4480-92c0-9a020eed7dfc",
        "colab": {
          "base_uri": "https://localhost:8080/"
        }
      },
      "outputs": [
        {
          "output_type": "stream",
          "name": "stdout",
          "text": [
            "{'name': 'navya', 'gender': 'female', 'country': 'india'}\n"
          ]
        }
      ],
      "source": [
        "# Write a Python program to create a dictionary with keys and values and print it.\n",
        "person_dict={\"name\":\"navya\",\"gender\":\"female\",\"country\":\"india\"}\n",
        "print(person_dict)"
      ]
    },
    {
      "cell_type": "code",
      "execution_count": 7,
      "id": "7432174b-fe75-4371-b23a-e2c5d62edb15",
      "metadata": {
        "id": "7432174b-fe75-4371-b23a-e2c5d62edb15",
        "outputId": "1e683845-486f-4e35-a463-c3639e27747d",
        "colab": {
          "base_uri": "https://localhost:8080/"
        }
      },
      "outputs": [
        {
          "output_type": "stream",
          "name": "stdout",
          "text": [
            "navya\n"
          ]
        }
      ],
      "source": [
        "# Write a Python program to access a dictionary value using a key.\n",
        "person_dict={\"name\":\"navya\",\"gender\":\"female\",\"country\":\"india\"}\n",
        "x=person_dict[\"name\"]\n",
        "print(x)"
      ]
    },
    {
      "cell_type": "code",
      "execution_count": 8,
      "id": "000b3260-d91f-41f2-9729-4b0124f2c4d2",
      "metadata": {
        "id": "000b3260-d91f-41f2-9729-4b0124f2c4d2",
        "outputId": "f89d7c9a-8efe-4d99-8dff-e8a5bf4bd463",
        "colab": {
          "base_uri": "https://localhost:8080/"
        }
      },
      "outputs": [
        {
          "output_type": "stream",
          "name": "stdout",
          "text": [
            "it exists\n"
          ]
        }
      ],
      "source": [
        "# Write a Python program to check if a key exists in a dictionary.\n",
        "person_dict={\"name\":\"navya\",\"gender\":\"female\",\"country\":\"india\"}\n",
        "i=\"name\"\n",
        "if i in person_dict:\n",
        "  print(\"it exists\")\n",
        "else:\n",
        "  print(\"it doesnot exists\")\n"
      ]
    },
    {
      "cell_type": "code",
      "execution_count": null,
      "id": "c4b1a942-818e-42c1-b742-1fabe80fca6d",
      "metadata": {
        "id": "c4b1a942-818e-42c1-b742-1fabe80fca6d",
        "outputId": "7f62b0d0-e97c-4388-919b-d999b7c623a9",
        "colab": {
          "base_uri": "https://localhost:8080/"
        }
      },
      "outputs": [
        {
          "output_type": "stream",
          "name": "stdout",
          "text": [
            "{'x': '1', 'y': '2', 'z': '3'}\n"
          ]
        }
      ],
      "source": [
        "# Write a Python program to merge two dictionaries.\n",
        "d1={'x':'1','y':'2'}\n",
        "d2={'z':'3'}\n",
        "d3=d1|d2\n",
        "print(d3)"
      ]
    },
    {
      "cell_type": "code",
      "execution_count": 13,
      "id": "a78f1070-3ff3-436a-8391-153f019f53cd",
      "metadata": {
        "id": "a78f1070-3ff3-436a-8391-153f019f53cd",
        "outputId": "19a60d24-5c78-4de4-b339-0c7da9c8a8f3",
        "colab": {
          "base_uri": "https://localhost:8080/"
        }
      },
      "outputs": [
        {
          "output_type": "stream",
          "name": "stdout",
          "text": [
            "my dictionary is: {'x': '1', 'y': '2', 'z': '3'}\n",
            "after deletion: {'x': '1', 'y': '2', 'z': '3'}\n"
          ]
        }
      ],
      "source": [
        "# Write a Python program to remove a key from a dictionary.\n",
        "d1={'x':'1','y':'2','z':'3'}\n",
        "print(\"my dictionary is:\",d1)\n",
        "if  x in d1:\n",
        "    del(d1['x'])\n",
        "print(\"after deletion:\",d1)\n"
      ]
    },
    {
      "cell_type": "code",
      "execution_count": 15,
      "id": "fcba0267-8cc4-4e89-9e78-2d820916c177",
      "metadata": {
        "id": "fcba0267-8cc4-4e89-9e78-2d820916c177",
        "outputId": "8f74012e-88f0-4a7f-9497-7251187f088f",
        "colab": {
          "base_uri": "https://localhost:8080/"
        }
      },
      "outputs": [
        {
          "output_type": "stream",
          "name": "stdout",
          "text": [
            "keys in dictionary: [dict_keys(['x', 'y', 'z'])]\n"
          ]
        }
      ],
      "source": [
        "# Write a Python program to get the number of keys in a dictionary.\n",
        "d1={'x':'1','y':'2','z':'3'}\n",
        "keys=d1.keys()\n",
        "print(\"keys in dictionary:\",[keys])"
      ]
    },
    {
      "cell_type": "code",
      "execution_count": null,
      "id": "d4c5fd77-9656-43e5-8fe2-be7dca23eb6d",
      "metadata": {
        "id": "d4c5fd77-9656-43e5-8fe2-be7dca23eb6d",
        "outputId": "81ff9b2e-f326-4c93-e001-69db4be6e290",
        "colab": {
          "base_uri": "https://localhost:8080/"
        }
      },
      "outputs": [
        {
          "output_type": "stream",
          "name": "stdout",
          "text": [
            "maximum: 92\n",
            "minimum: 8\n"
          ]
        }
      ],
      "source": [
        "# Write a Python program to find the largest and smallest values in a dictionary.\n",
        "marks={\"m1\":76,\"m2\":83,\"m3\":92,\"m4\":8}\n",
        "v=marks.values()\n",
        "max=max(v)\n",
        "min=min(v)\n",
        "print(\"maximum:\",max)\n",
        "print(\"minimum:\",min)"
      ]
    },
    {
      "cell_type": "markdown",
      "id": "7830b8cc-9a90-45a2-8e4a-6f3c2b8b133b",
      "metadata": {
        "id": "7830b8cc-9a90-45a2-8e4a-6f3c2b8b133b"
      },
      "source": [
        "## Functions (User-Defined, Arguments, Keyword Arguments, Return Values)"
      ]
    },
    {
      "cell_type": "code",
      "execution_count": 16,
      "id": "06a33fba-c6b1-4989-90f4-b647d1fe1627",
      "metadata": {
        "id": "06a33fba-c6b1-4989-90f4-b647d1fe1627",
        "outputId": "b19ab42d-6d8d-4c4c-e840-f00f74f703e2",
        "colab": {
          "base_uri": "https://localhost:8080/"
        }
      },
      "outputs": [
        {
          "output_type": "stream",
          "name": "stdout",
          "text": [
            "enter a number for square value:10\n",
            "the square value is: 100\n"
          ]
        }
      ],
      "source": [
        "# Write a Python function that returns the square of a number.\n",
        "def square(num):\n",
        "  square=num*num\n",
        "  return square\n",
        "num=int(input(\"enter a number for square value:\"))\n",
        "squ=square(num)\n",
        "print(\"the square value is:\",squ)"
      ]
    },
    {
      "cell_type": "code",
      "execution_count": 17,
      "id": "91d90a4a-7329-45db-893b-caed8450ba96",
      "metadata": {
        "id": "91d90a4a-7329-45db-893b-caed8450ba96",
        "outputId": "e1cc3df9-8799-4afb-deca-f61405133fb5",
        "colab": {
          "base_uri": "https://localhost:8080/"
        }
      },
      "outputs": [
        {
          "output_type": "stream",
          "name": "stdout",
          "text": [
            "enter a first number:2\n",
            "enter a second number:4\n",
            "the sum of above numbers is: 6\n"
          ]
        }
      ],
      "source": [
        "# Write a Python function that accepts two parameters and returns their sum.\n",
        "def sum(num1,num2):\n",
        "  sum=num1+num2\n",
        "  return sum\n",
        "num1=int(input(\"enter a first number:\"))\n",
        "num2=int(input(\"enter a second number:\"))\n",
        "summation=sum(num1,num2)\n",
        "print(\"the sum of above numbers is:\",summation)"
      ]
    },
    {
      "cell_type": "code",
      "execution_count": 29,
      "id": "dec2f9a5-90c5-478b-890b-0a506ecf45d3",
      "metadata": {
        "id": "dec2f9a5-90c5-478b-890b-0a506ecf45d3",
        "outputId": "c76d6df1-f35b-4cef-c07c-1fb41745bb2e",
        "colab": {
          "base_uri": "https://localhost:8080/"
        }
      },
      "outputs": [
        {
          "output_type": "stream",
          "name": "stdout",
          "text": [
            "enter a  number:5\n",
            "5  is a prime number\n"
          ]
        }
      ],
      "source": [
        "# Write a Python function to check if a given number is prime.\n",
        "def num_prime(num):\n",
        "  if num>1:\n",
        "     for i in range (2,(num//2)+1):\n",
        "      if(num%i)==0:\n",
        "        print(num,\"is not a prime number\")\n",
        "        break\n",
        "      else:\n",
        "        print(num,\" is a prime number\")\n",
        "  else:\n",
        "    print(\"it is not a prime number\")\n",
        "num1=int(input(\"enter a  number:\"))\n",
        "num_prime(num1)"
      ]
    },
    {
      "cell_type": "code",
      "execution_count": 31,
      "id": "56337441-68c3-45df-8733-a34cde0533a5",
      "metadata": {
        "id": "56337441-68c3-45df-8733-a34cde0533a5",
        "outputId": "7b1391f2-502f-4e7d-9486-2dedf408f5b1",
        "colab": {
          "base_uri": "https://localhost:8080/"
        }
      },
      "outputs": [
        {
          "output_type": "stream",
          "name": "stdout",
          "text": [
            "enter a  number:5\n",
            "factorial of 5 is 120\n"
          ]
        }
      ],
      "source": [
        "# Write a Python function to calculate the factorial of a number using recursion.\n",
        "def recur_factorial(n):\n",
        "  if n==1:\n",
        "    return n\n",
        "  else:\n",
        "    return n*recur_factorial(n-1)\n",
        "num1=int(input(\"enter a  number:\"))\n",
        "if num<0:\n",
        "  print(\"no factorial exists for negative numbers\")\n",
        "elif num==0:\n",
        "  print(\"zero factorial is 1\")\n",
        "else:\n",
        "  print(\"factorial of\",num1,\"is\",recur_factorial(num1))"
      ]
    },
    {
      "cell_type": "code",
      "execution_count": 32,
      "id": "84a2d010-e7b2-409b-b1f4-99bf806bb77a",
      "metadata": {
        "id": "84a2d010-e7b2-409b-b1f4-99bf806bb77a",
        "outputId": "0d5fbc2f-19ab-4d32-d481-a2e578438ce7",
        "colab": {
          "base_uri": "https://localhost:8080/"
        }
      },
      "outputs": [
        {
          "output_type": "stream",
          "name": "stdout",
          "text": [
            "enter the number:2\n",
            "enter the power:3\n",
            " the value is 8\n"
          ]
        }
      ],
      "source": [
        "# Write a Python function to calculate the power of a number using recursion.\n",
        "def power(n,p):\n",
        "  if p==0:\n",
        "    return 1\n",
        "  return (n*power(n,p-1))\n",
        "n=int(input(\"enter the number:\"))\n",
        "p=int(input(\"enter the power:\"))\n",
        "print(\" the value is\",power(n,p))\n"
      ]
    },
    {
      "cell_type": "code",
      "execution_count": 34,
      "id": "ec44911e-7820-46cc-96a3-4ca443888837",
      "metadata": {
        "id": "ec44911e-7820-46cc-96a3-4ca443888837",
        "outputId": "54801395-d5e5-4c4a-f7a9-6e71731cc055",
        "colab": {
          "base_uri": "https://localhost:8080/"
        }
      },
      "outputs": [
        {
          "output_type": "stream",
          "name": "stdout",
          "text": [
            "6\n"
          ]
        }
      ],
      "source": [
        "# Write a Python function to accept a list and return its length without using the built-in len() function.\n",
        "def list_len(n):\n",
        "  count=0\n",
        "  for i in n:\n",
        "    count+=1\n",
        "  print(count)\n",
        "n=[1,4,7,45,6,7]\n",
        "list_len(n)"
      ]
    },
    {
      "cell_type": "code",
      "execution_count": 35,
      "id": "fb4c08e1-34f3-487a-a1c6-77cd60fb4836",
      "metadata": {
        "id": "fb4c08e1-34f3-487a-a1c6-77cd60fb4836",
        "outputId": "eef9418c-ac35-4d12-841f-1da4ca623ac4",
        "colab": {
          "base_uri": "https://localhost:8080/"
        }
      },
      "outputs": [
        {
          "output_type": "stream",
          "name": "stdout",
          "text": [
            "my self: navya\n",
            "my age is: 25\n",
            "my self: navya\n",
            "my age is: 25\n"
          ]
        }
      ],
      "source": [
        "# Write a Python function that accepts both positional and keyword arguments and prints the sum of positional arguments.\n",
        "def name(name,age):\n",
        "  print(\"my self:\",name)\n",
        "  print(\"my age is:\",age)\n",
        "name(name=\"navya\",age=\"25\")\n",
        "name(age=25,name=\"navya\")"
      ]
    },
    {
      "cell_type": "code",
      "execution_count": 36,
      "id": "f4ffc7a8-f579-461c-b507-4085a0477283",
      "metadata": {
        "id": "f4ffc7a8-f579-461c-b507-4085a0477283",
        "outputId": "93a279d7-9892-47fd-c7de-6c3ac9b0b8db",
        "colab": {
          "base_uri": "https://localhost:8080/"
        }
      },
      "outputs": [
        {
          "output_type": "stream",
          "name": "stdout",
          "text": [
            "4\n"
          ]
        }
      ],
      "source": [
        "# Write a Python function to find the maximum of two numbers using keyword arguments.\n",
        "def maximum(a,b):\n",
        "  if a>=b:\n",
        "    return a\n",
        "  else:\n",
        "    return b\n",
        "a=2\n",
        "b=4\n",
        "print(maximum(a,b))"
      ]
    },
    {
      "cell_type": "code",
      "execution_count": 37,
      "id": "0b00c4af-89e0-43e8-a991-1b684d2ce33f",
      "metadata": {
        "id": "0b00c4af-89e0-43e8-a991-1b684d2ce33f",
        "outputId": "02214cf8-3256-44c1-be13-3f5350394fdb",
        "colab": {
          "base_uri": "https://localhost:8080/"
        }
      },
      "outputs": [
        {
          "output_type": "stream",
          "name": "stdout",
          "text": [
            "12420\n"
          ]
        }
      ],
      "source": [
        "# Write a Python function that accepts a list of numbers and returns their product.\n",
        "def product(my_list):\n",
        "  result=1\n",
        "  for x in my_list:\n",
        "    result=result*x\n",
        "  return result\n",
        "my_list=[12,23,45]\n",
        "print(product(my_list))\n"
      ]
    },
    {
      "cell_type": "code",
      "execution_count": 47,
      "id": "9cd11703-5b48-44fe-af4e-ea906a2762c9",
      "metadata": {
        "id": "9cd11703-5b48-44fe-af4e-ea906a2762c9",
        "outputId": "3feb01e2-d79a-4604-95aa-6feab51c5a21",
        "colab": {
          "base_uri": "https://localhost:8080/"
        }
      },
      "outputs": [
        {
          "output_type": "stream",
          "name": "stdout",
          "text": [
            "enter a number43\n",
            "it is odd number\n"
          ]
        }
      ],
      "source": [
        "# Write a Python function to check if a number is even or odd using the modulo operator.\n",
        "def even(n):\n",
        "  if n>0:\n",
        "    if n%2==0:\n",
        "      print(\"it is a even number\")\n",
        "    else:\n",
        "      print(\"it is odd number\")\n",
        "  if n==0:\n",
        "    print(\"zero is neither odd or even\")\n",
        "num=int(input(\"enter a number\"))\n",
        "even(num)"
      ]
    },
    {
      "cell_type": "code",
      "execution_count": 54,
      "id": "afbf262e-daed-40a9-827f-82fa60979610",
      "metadata": {
        "id": "afbf262e-daed-40a9-827f-82fa60979610",
        "outputId": "f29878c7-0bea-48fe-ec57-5e14cda2f7b2",
        "colab": {
          "base_uri": "https://localhost:8080/"
        }
      },
      "outputs": [
        {
          "output_type": "stream",
          "name": "stdout",
          "text": [
            "[100]\n"
          ]
        }
      ],
      "source": [
        "# Write a Python program to create a list of squares of numbers from 1 to 10 using list comprehension.\n",
        "for x in range(1,11):\n",
        "  squares=[x*x]\n",
        "  x=x+1\n",
        "print(squares)"
      ]
    },
    {
      "cell_type": "code",
      "execution_count": 55,
      "id": "7fff76d8-9ba8-4006-9be6-6f7350092d1c",
      "metadata": {
        "id": "7fff76d8-9ba8-4006-9be6-6f7350092d1c",
        "outputId": "bd03fe15-72eb-4ac9-b43a-7cbe56bb78b2",
        "colab": {
          "base_uri": "https://localhost:8080/"
        }
      },
      "outputs": [
        {
          "output_type": "stream",
          "name": "stdout",
          "text": [
            "after filter of even numbers: [9]\n"
          ]
        }
      ],
      "source": [
        "# Write a Python program to filter out all even numbers from a list using list comprehension.\n",
        "num=[1,3,3,4,5,6,7,8,9,10]\n",
        "for i in num:\n",
        "  if i%2!=0:\n",
        "    odd_num=[i]\n",
        "print(\"after filter of even numbers:\",odd_num)"
      ]
    },
    {
      "cell_type": "code",
      "execution_count": 56,
      "id": "6ae9b8df-38f9-4fd7-bad1-aa7b07cc9271",
      "metadata": {
        "id": "6ae9b8df-38f9-4fd7-bad1-aa7b07cc9271",
        "outputId": "9e69a7c7-cf8f-419c-856d-d99c4bf5218e",
        "colab": {
          "base_uri": "https://localhost:8080/"
        }
      },
      "outputs": [
        {
          "output_type": "stream",
          "name": "stdout",
          "text": [
            "[['asdf', 'edf', 'asdfg', 'lkjh', 'rf']]\n"
          ]
        }
      ],
      "source": [
        "# Write a Python program to create a list of strings that are longer than 4 characters from a given list of words using list comprehension.\n",
        "words=['asdf','edf','asdfg','lkjh','rf']\n",
        "for i in words:\n",
        "  if len(words)>4:\n",
        "    word=[words]\n",
        "print(word)"
      ]
    },
    {
      "cell_type": "code",
      "execution_count": 61,
      "id": "f492c7d4-6ad3-48ab-9b61-232be02aecee",
      "metadata": {
        "id": "f492c7d4-6ad3-48ab-9b61-232be02aecee",
        "outputId": "8e56e4aa-8b42-4b80-d8be-62f4bb475f7b",
        "colab": {
          "base_uri": "https://localhost:8080/",
          "height": 183
        }
      },
      "outputs": [
        {
          "output_type": "error",
          "ename": "NameError",
          "evalue": "name 'txt' is not defined",
          "traceback": [
            "\u001b[0;31m---------------------------------------------------------------------------\u001b[0m",
            "\u001b[0;31mNameError\u001b[0m                                 Traceback (most recent call last)",
            "\u001b[0;32m<ipython-input-61-bfa676e53d52>\u001b[0m in \u001b[0;36m<cell line: 6>\u001b[0;34m()\u001b[0m\n\u001b[1;32m      4\u001b[0m   \u001b[0;32mif\u001b[0m \u001b[0mchar\u001b[0m\u001b[0;34m==\u001b[0m\u001b[0mchar\u001b[0m\u001b[0;34m.\u001b[0m\u001b[0misupper\u001b[0m\u001b[0;34m(\u001b[0m\u001b[0;34m)\u001b[0m\u001b[0;34m:\u001b[0m\u001b[0;34m\u001b[0m\u001b[0;34m\u001b[0m\u001b[0m\n\u001b[1;32m      5\u001b[0m     \u001b[0mtxt\u001b[0m\u001b[0;34m=\u001b[0m\u001b[0;34m[\u001b[0m\u001b[0mchar\u001b[0m\u001b[0;34m]\u001b[0m\u001b[0;34m\u001b[0m\u001b[0;34m\u001b[0m\u001b[0m\n\u001b[0;32m----> 6\u001b[0;31m \u001b[0mprint\u001b[0m\u001b[0;34m(\u001b[0m\u001b[0mtxt\u001b[0m\u001b[0;34m)\u001b[0m\u001b[0;34m\u001b[0m\u001b[0;34m\u001b[0m\u001b[0m\n\u001b[0m",
            "\u001b[0;31mNameError\u001b[0m: name 'txt' is not defined"
          ]
        }
      ],
      "source": [
        "# Write a Python program to create a list of all uppercase letters in a string using list comprehension.\n",
        "text=\"Hello World\"\n",
        "for char in text:\n",
        "  if char==char.isupper():\n",
        "    txt=[char]\n",
        "print(txt)"
      ]
    },
    {
      "cell_type": "code",
      "execution_count": 62,
      "id": "929a7f74-1762-4a2a-be23-bacf67ff4d8b",
      "metadata": {
        "id": "929a7f74-1762-4a2a-be23-bacf67ff4d8b",
        "outputId": "4e67f4ac-5776-47fa-e21e-8e2e85e20769",
        "colab": {
          "base_uri": "https://localhost:8080/",
          "height": 201
        }
      },
      "outputs": [
        {
          "output_type": "error",
          "ename": "TypeError",
          "evalue": "'NoneType' object is not iterable",
          "traceback": [
            "\u001b[0;31m---------------------------------------------------------------------------\u001b[0m",
            "\u001b[0;31mTypeError\u001b[0m                                 Traceback (most recent call last)",
            "\u001b[0;32m<ipython-input-62-7cfea13d8c24>\u001b[0m in \u001b[0;36m<cell line: 29>\u001b[0;34m()\u001b[0m\n\u001b[1;32m     27\u001b[0m     \u001b[0;32mreturn\u001b[0m \u001b[0mfib_n_generator\u001b[0m\u001b[0;34m(\u001b[0m\u001b[0;34m)\u001b[0m\u001b[0;34m\u001b[0m\u001b[0;34m\u001b[0m\u001b[0m\n\u001b[1;32m     28\u001b[0m \u001b[0;34m\u001b[0m\u001b[0m\n\u001b[0;32m---> 29\u001b[0;31m \u001b[0mfib\u001b[0m\u001b[0;34m=\u001b[0m\u001b[0;34m[\u001b[0m\u001b[0mxx\u001b[0m \u001b[0;32mfor\u001b[0m \u001b[0mxx\u001b[0m \u001b[0;32min\u001b[0m \u001b[0mfib_generator\u001b[0m\u001b[0;34m(\u001b[0m\u001b[0;36m10\u001b[0m\u001b[0;34m)\u001b[0m\u001b[0;34m]\u001b[0m\u001b[0;34m\u001b[0m\u001b[0;34m\u001b[0m\u001b[0m\n\u001b[0m\u001b[1;32m     30\u001b[0m \u001b[0mprint\u001b[0m\u001b[0;34m(\u001b[0m\u001b[0mfib\u001b[0m\u001b[0;34m)\u001b[0m\u001b[0;34m\u001b[0m\u001b[0;34m\u001b[0m\u001b[0m\n",
            "\u001b[0;31mTypeError\u001b[0m: 'NoneType' object is not iterable"
          ]
        }
      ],
      "source": [
        "# Write a Python program to generate the first n Fibonacci numbers using list comprehension.\n",
        "def fib_generator(n):\n",
        "\n",
        "  def fib_generator():\n",
        "    last=1\n",
        "    curr=1\n",
        "\n",
        "    if n==0:\n",
        "      return\n",
        "\n",
        "    yield last\n",
        "    if n==1:\n",
        "      return\n",
        "\n",
        "    yield curr\n",
        "    if n==2:\n",
        "      return\n",
        "\n",
        "    ii=2\n",
        "    while ii<n:\n",
        "      next=curr+last\n",
        "      yield next\n",
        "      last=curr\n",
        "      curr=next\n",
        "      ii+=1\n",
        "\n",
        "    return fib_n_generator()\n",
        "\n",
        "fib=[xx for xx in fib_generator(10)]\n",
        "print(fib)"
      ]
    },
    {
      "cell_type": "code",
      "execution_count": 67,
      "id": "47188bbc-cf62-47bb-a14e-0582c8b5cdd9",
      "metadata": {
        "id": "47188bbc-cf62-47bb-a14e-0582c8b5cdd9",
        "outputId": "09bee5c9-6c68-4fe2-a377-7823f24fd902",
        "colab": {
          "base_uri": "https://localhost:8080/"
        }
      },
      "outputs": [
        {
          "output_type": "stream",
          "name": "stdout",
          "text": [
            "dictionary : {6: 36}\n"
          ]
        }
      ],
      "source": [
        "# Write a Python program to create a dictionary where keys are numbers and values are their squares using dictionary comprehension.\n",
        "num=[1,2,3,4,5,6]\n",
        "for num in num:\n",
        "  square_dict={num:num*num}\n",
        "print(\"dictionary :\",square_dict)"
      ]
    },
    {
      "cell_type": "code",
      "execution_count": 70,
      "id": "3c4637d3-aa85-4b4c-acf3-953c10818bcb",
      "metadata": {
        "id": "3c4637d3-aa85-4b4c-acf3-953c10818bcb",
        "outputId": "b3f43a07-9c42-4f8b-8ec3-fd64a55ab1a9",
        "colab": {
          "base_uri": "https://localhost:8080/"
        }
      },
      "outputs": [
        {
          "output_type": "stream",
          "name": "stdout",
          "text": [
            "dictionary: {3: 4}\n"
          ]
        }
      ],
      "source": [
        "# Write a Python program to create a dictionary from two lists (one for keys and one for values) using dictionary comprehension.\n",
        "key=[1,2,3,]\n",
        "value=[2,5,4]\n",
        "for i in range(len(key)):\n",
        "  dictionary={key[i]:value[i]}\n",
        "print(\"dictionary:\",dictionary)"
      ]
    },
    {
      "cell_type": "code",
      "execution_count": 72,
      "id": "de817d6f-96e7-4346-839e-1ef0df539b6b",
      "metadata": {
        "id": "de817d6f-96e7-4346-839e-1ef0df539b6b",
        "outputId": "27bbc534-b6fc-4a9a-a33e-89a08a301cb2",
        "colab": {
          "base_uri": "https://localhost:8080/"
        }
      },
      "outputs": [
        {
          "output_type": "stream",
          "name": "stdout",
          "text": [
            "dictionary : {5: 125}\n"
          ]
        }
      ],
      "source": [
        "# Write a Python program to create a dictionary of numbers from 1 to 5 and their cubes using dictionary comprehension.\n",
        "num=[1,2,3,4,5]\n",
        "for num in num:\n",
        "  cube_dict={num:num**3}\n",
        "print(\"dictionary :\",cube_dict)"
      ]
    },
    {
      "cell_type": "code",
      "execution_count": 74,
      "id": "33695301-057e-49a6-9f80-a2f4e3af60ed",
      "metadata": {
        "id": "33695301-057e-49a6-9f80-a2f4e3af60ed",
        "outputId": "4b772064-2816-4ab6-beab-91720b4e62f1",
        "colab": {
          "base_uri": "https://localhost:8080/"
        }
      },
      "outputs": [
        {
          "output_type": "stream",
          "name": "stdout",
          "text": [
            "[1, 4, 9, 16, 25]\n"
          ]
        }
      ],
      "source": [
        "# Write a Python program to square each element of a list using the map() function.\n",
        "numbers=[1,2,3,4,5]\n",
        "squared_numbers=map(lambda x:x**2,numbers)\n",
        "squared_list=list(squared_numbers)\n",
        "print(squared_list)"
      ]
    },
    {
      "cell_type": "code",
      "execution_count": 76,
      "id": "6d4d17f3-c40f-4944-8656-c6416b600361",
      "metadata": {
        "id": "6d4d17f3-c40f-4944-8656-c6416b600361",
        "outputId": "037973ce-4991-4f9f-e78e-6ffdefcbc5b3",
        "colab": {
          "base_uri": "https://localhost:8080/"
        }
      },
      "outputs": [
        {
          "output_type": "stream",
          "name": "stdout",
          "text": [
            "[2, 4, 6, 8, 10]\n"
          ]
        }
      ],
      "source": [
        "# Write a Python program to filter all even numbers from a list using the filter() function.\n",
        "num=[1,2,3,4,5,6,7,8,9,10]\n",
        "even_numbers=filter(lambda x:x%2==0,num)\n",
        "even_list=list(even_numbers)\n",
        "print(even_list)"
      ]
    },
    {
      "cell_type": "code",
      "execution_count": 78,
      "id": "6634ba1f-9f81-475e-b7c4-422d102afb75",
      "metadata": {
        "id": "6634ba1f-9f81-475e-b7c4-422d102afb75",
        "outputId": "bd0e2c98-a2f4-4731-9b3d-67637f429201",
        "colab": {
          "base_uri": "https://localhost:8080/"
        }
      },
      "outputs": [
        {
          "output_type": "stream",
          "name": "stdout",
          "text": [
            "numbers divisible by both 3 and 5: [15, 60]\n"
          ]
        }
      ],
      "source": [
        "# Write a Python program to use a lambda function to check if a number is divisible by both 3 and 5.\n",
        "divi_3_5=lambda x:x%3==0 and x%5==0\n",
        "num=[15,35,24,60]\n",
        "divis_num=[numbers for numbers in num if divi_3_5(numbers)]\n",
        "print(\"numbers divisible by both 3 and 5:\",divis_num)"
      ]
    },
    {
      "cell_type": "code",
      "execution_count": 83,
      "id": "0aac8430-5d77-439d-9a99-9598fadf989c",
      "metadata": {
        "id": "0aac8430-5d77-439d-9a99-9598fadf989c",
        "outputId": "12890c70-ebb2-4e4d-ad75-5b78d41eaeb3",
        "colab": {
          "base_uri": "https://localhost:8080/"
        }
      },
      "outputs": [
        {
          "output_type": "stream",
          "name": "stdout",
          "text": [
            "original list: [2, 4, 6, 8, 9, 11]\n",
            "given numbers: 2\n",
            "result:\n",
            "4 8 12 16 18 22\n"
          ]
        }
      ],
      "source": [
        "# Write a Python program to multiply all numbers in a list by 2 using a lambda function inside map().\n",
        "nums=[2,4,6,8,9,11]\n",
        "n=2\n",
        "print(\"original list:\",nums)\n",
        "print(\"given numbers:\",n)\n",
        "filtered_numbers = list(map(lambda number: number*n,nums))\n",
        "print(\"result:\")\n",
        "print(' '.join(map(str,filtered_numbers)))"
      ]
    },
    {
      "cell_type": "code",
      "execution_count": 84,
      "id": "e4cd5ba8-c6ec-4f0d-8787-bf0a4b7a2e22",
      "metadata": {
        "id": "e4cd5ba8-c6ec-4f0d-8787-bf0a4b7a2e22",
        "outputId": "58ccb4fb-a8e4-495f-cf42-0344b2f89ba2",
        "colab": {
          "base_uri": "https://localhost:8080/",
          "height": 110
        }
      },
      "outputs": [
        {
          "output_type": "error",
          "ename": "SyntaxError",
          "evalue": "invalid syntax (<ipython-input-84-dabd8e1e2241>, line 5)",
          "traceback": [
            "\u001b[0;36m  File \u001b[0;32m\"<ipython-input-84-dabd8e1e2241>\"\u001b[0;36m, line \u001b[0;32m5\u001b[0m\n\u001b[0;31m    if__name__==\"__main__\":\u001b[0m\n\u001b[0m                          ^\u001b[0m\n\u001b[0;31mSyntaxError\u001b[0m\u001b[0;31m:\u001b[0m invalid syntax\n"
          ]
        }
      ],
      "source": [
        "# Write a Python program to remove all occurrences of a specific element from a list.\n",
        "def remove_items(test_list,item):\n",
        "  res=[i for i in test_list if i != item]\n",
        "  return res\n",
        "if  _name_==\"_main_\" :\n",
        "  test_list=[1,2,3,4,5,7]\n",
        "  item=1\n",
        "  print(\"original list is:\",str(test_list))\n",
        "  res=remove_items(test_list,item)\n",
        "  print(\"list after performing the remove operation:\",str(res))"
      ]
    },
    {
      "cell_type": "markdown",
      "id": "caba77c7-93db-4893-8f48-c7365ed5c585",
      "metadata": {
        "id": "caba77c7-93db-4893-8f48-c7365ed5c585"
      },
      "source": [
        "**Note:**\n",
        "- All assignments must follow [PEP 8 – Style Guide for Python Code](https://peps.python.org/pep-0008/) guidelines.\n",
        "- You can add multiple solutions for each question. Create a new code cell next to the question and add it. Shortcut for creating cell : `Alt + Enter`"
      ]
    }
  ],
  "metadata": {
    "kernelspec": {
      "display_name": "Python 3 (ipykernel)",
      "language": "python",
      "name": "python3"
    },
    "language_info": {
      "codemirror_mode": {
        "name": "ipython",
        "version": 3
      },
      "file_extension": ".py",
      "mimetype": "text/x-python",
      "name": "python",
      "nbconvert_exporter": "python",
      "pygments_lexer": "ipython3",
      "version": "3.12.6"
    },
    "colab": {
      "provenance": [],
      "include_colab_link": true
    }
  },
  "nbformat": 4,
  "nbformat_minor": 5
}